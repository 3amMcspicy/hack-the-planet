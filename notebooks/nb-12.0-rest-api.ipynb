{
 "cells": [
  {
   "cell_type": "markdown",
   "metadata": {},
   "source": [
    "# Notebook 12.0 RESTful GBIF\n",
    "\n",
    "This notebook will introduce you to methods for access and parse data from online databases by accessing websites that have RESTful APIs. \n",
    "\n",
    "### Learning objectives\n",
    "- Gain familiarity with the GBIF biological database\n",
    "- Understand the structure of REST API requests\n",
    "- Be able to use the `request` Python library to query REST APIs"
   ]
  },
  {
   "cell_type": "markdown",
   "metadata": {},
   "source": [
    "### Required software\n",
    "Install the following with conda before running this notebook"
   ]
  },
  {
   "cell_type": "code",
   "execution_count": 1,
   "metadata": {},
   "outputs": [],
   "source": [
    "# conda install pandas requests toyplot -c conda-forge"
   ]
  },
  {
   "cell_type": "code",
   "execution_count": 2,
   "metadata": {},
   "outputs": [],
   "source": [
    "import toyplot\n",
    "import requests\n",
    "import pandas as pd"
   ]
  },
  {
   "cell_type": "markdown",
   "metadata": {},
   "source": [
    "### The design of REST APIs. \n",
    "The idea behind REST APIs is that data on a server (like a webpage) can be accessed with a consistent type of argument in the form of a URL, to query data which will then be returned in a form that is easy to analyze (usually json or xml), as opposed to being returned in messy HTML that needs to be parsed. Many websites have REST APIs, but some are much easier to use than others. "
   ]
  },
  {
   "cell_type": "markdown",
   "metadata": {},
   "source": [
    "### Limits\n",
    "Many REST APIs have limits on the way that you can use them. For example, the REST APIs for Twitter, GitHub, and Reddit require that you login in order to access data, and some sites will throttle how many requests you can make per hour. In this notebook we will be focusing on accessing data from websites that *are designed to be queried* -- they purposefully created an API for this purpose. It's worth noting that there exists other methods to parse data from the raw HTML representation of websites, but that is not our focus here. By contrast, sites with API access typically have data stored in a server database that allows efficient access to even enormous datasets with billions of records (e.g., Twitter)."
   ]
  },
  {
   "cell_type": "markdown",
   "metadata": {},
   "source": [
    "### Good REST APIs\n",
    "A good REST API will have good documentation explaining its intended usage. Two very good examples are the [USDA Bison API](https://bison.usgs.gov/#api) and the [Global Biodiversity Information Facility (GBIF) API](https://www.gbif.org/developer/summary). We'll focus on the latter in this notebook. The GBIF database is an international effort to collect all observation data on plants, animals, and fungi into a single place where it can be searched. It is actually a conglomeration of many separate databases, with data from museums and similar institutions all over the world. These APIs are free to use but request that you cite them if the data is used in a publication eventually. \n",
    "\n",
    "(Although GBIF is free to use it does limit the size of a request you can make at once, but there are ways around this as explained in its documentation.)"
   ]
  },
  {
   "cell_type": "markdown",
   "metadata": {},
   "source": [
    "### What does GBIF do?\n",
    "GBIF can be used to find specimen collection records, or other types of observation data, stored in museum type databases. The website offers a convenient way to request taxa by name, and to select specific research criteria. For example, if we wanted to find all specimens of bumblebees (genus *Bombus*) that were collected between 1910 and 1920 we could request this through the website. It will draw a nice map with their locations and you can download a table with coordinates of where they were collected. This is actually one of the best databases around, since it organizes the data quite easily for you to download, but nevertheless, we'll use it as our example to learn REST APIs. "
   ]
  },
  {
   "cell_type": "markdown",
   "metadata": {},
   "source": [
    "### REST APIs and websites\n",
    "It's worth noting that the GBIF website itself is designed around the REST API. When you fill in the search form on the site to tell it to search a particular species from a particular area, its response is collected from the database in the same way that your response would be when you make the same request using a URL passed to the API. The website simply takes this response (likely in JSON format) and renders it nicely into a table or map for you to view on the website. This is how many websites work!"
   ]
  },
  {
   "cell_type": "markdown",
   "metadata": {},
   "source": [
    "Even though GBIF has a very nice web interface, it is obviously often more efficient to be able to query this database programmatically, instead of having to type each name we wish to search, and click on several buttons. This can provide a much more powerful way of applying filters over many different types of searches. That is the idea behind REST APIs and the reason why GBIF provides one. "
   ]
  },
  {
   "cell_type": "markdown",
   "metadata": {},
   "source": [
    "### The base-url\n",
    "The base URL is the web address of the API. This is simply a string that we wil add arguments to in order to request particular types of data be returned to use from the database. For GBIF this is the following, which we'll store as a string for now. This base-url address is given to us right at the top of the [GBIF API documentation](https://www.gbif.org/developer/occurrence). You can see that it looks much like any other web address. "
   ]
  },
  {
   "cell_type": "code",
   "execution_count": 3,
   "metadata": {},
   "outputs": [],
   "source": [
    "# store the base url as a string variable\n",
    "baseurl = \"http://api.gbif.org/v1/occurrence/search?\""
   ]
  },
  {
   "cell_type": "markdown",
   "metadata": {},
   "source": [
    "### How to query GBIF\n",
    "As you can see in the URL below, an API query just has additional arguments added to the baseurl. The string below searches for records with the name *Bombus*, which is the genus for bumblebees. We've added just the 'query' option 'q' and the name. How did I know that 'q' was valid parameter to this API? By reading the documentation.\n",
    "\n",
    "We'll see next how to make more complex queries. But first, copy the URL below (without the quotation marks around it) and paste it into a web browser. This will show you what the returned data looks like. It might look a bit different depending on which browser you are using (I recommend using firefox or chrome) but the underlying data is the same, and is called JSON data."
   ]
  },
  {
   "cell_type": "code",
   "execution_count": 5,
   "metadata": {},
   "outputs": [],
   "source": [
    "# store a endpoint request as a string variable\n",
    "search_url = \"http://api.gbif.org/v1/occurrence/search?q=Bombus\""
   ]
  },
  {
   "cell_type": "markdown",
   "metadata": {},
   "source": [
    "### JSON format\n",
    "We will be using the `requests` library to get data from online, but before we do, let's talk a bit about how the data will be structured so we know what to expect. The data that you should see in your browser now is called JSON formatted data.  You'll notice that this format is almost identical to what a Python dictionary looks like. It is composed of key:value pairs. This will make it particularly easy to work with. "
   ]
  },
  {
   "cell_type": "markdown",
   "metadata": {},
   "source": [
    "### Requests\n",
    "\n",
    "[Documentation](http://docs.python-requests.org/en/master/user/quickstart/)\n",
    "\n",
    "The `requests` package work a bit like an automated web browser. We've used `requests` briefly in the past but now we'll start to use it more effectively. The main function we will call is `.get()`, which will send a GET command (a form of HTTP method that the web is built on) to the web address and return a Response Class object. We will then access attributes and functions of the Response instance to see if our request worked, and to parse the resulting text from it. Let's try this on our `search_url` string defined above. "
   ]
  },
  {
   "cell_type": "code",
   "execution_count": 6,
   "metadata": {},
   "outputs": [],
   "source": [
    "# create a Response instance from a request\n",
    "response = requests.get(search_url)"
   ]
  },
  {
   "cell_type": "code",
   "execution_count": 7,
   "metadata": {},
   "outputs": [
    {
     "data": {
      "text/plain": [
       "200"
      ]
     },
     "execution_count": 7,
     "metadata": {},
     "output_type": "execute_result"
    }
   ],
   "source": [
    "# check that your request worked (200 = worked; other codes No))\n",
    "response.status_code "
   ]
  },
  {
   "cell_type": "code",
   "execution_count": 10,
   "metadata": {},
   "outputs": [],
   "source": [
    "# or, run this to check if it worked.\n",
    "# This would return an error message if it didn't work (else None)\n",
    "response.raise_for_status()"
   ]
  },
  {
   "cell_type": "markdown",
   "metadata": {},
   "source": [
    "### Parse a Response\n",
    "Before when we've used `requests` we've parsed the results as plain text, since it was usually in a format that was easiest to work with as a string (we used requests in an early notebook to download iris-data-dirty.csv). In this case, we are going to access the data a bit differently, by instead  accessing it in JSON format. This is easily available from the object just like text is. The first is not very easily readable or parseable, whereas the second can be accessed and searched more easily. "
   ]
  },
  {
   "cell_type": "code",
   "execution_count": 12,
   "metadata": {},
   "outputs": [
    {
     "data": {
      "text/plain": [
       "'{\"offset\":0,\"limit\":20,\"endOfRecords\":false,\"count\":2658388,\"results\":[{\"key\":1736840426,\"datasetKey\":\"4fa7b334-ce0d-4e88-aaae-2e0c138d049e\",\"publishingOrgKey\":\"e2e717bf-551a-4917-bdc9-4fa0f342c530\",\"installationKey\":\"7182d304-b0a2-404b-baba-2086a325c221\",\"publishingCountry\":\"EC\",\"protocol\":\"DWC_ARCHIVE\",\"lastCrawled\":\"2020-06-30T08:20:54.124+00:00\",\"lastParsed\":\"2020-12-16T12:05:42.432+00:00\",\"crawlId\":13,\"hostingOrganizationKey\":\"e2e717bf-551a-4917-bdc9-4fa0f342c530\",\"extensions\":{},\"basisOfRe'"
      ]
     },
     "execution_count": 12,
     "metadata": {},
     "output_type": "execute_result"
    }
   ],
   "source": [
    "# first 500 characters of the .text string from GBIF API query\n",
    "response.text[:500]"
   ]
  },
  {
   "cell_type": "markdown",
   "metadata": {},
   "source": [
    "As you can see above, the result is a string. But we want it to be parsed as a dictionary. The `.json()` function of the response object will do this for us."
   ]
  },
  {
   "cell_type": "code",
   "execution_count": 14,
   "metadata": {},
   "outputs": [
    {
     "data": {
      "text/plain": [
       "['offset', 'limit', 'endOfRecords', 'count', 'results', 'facets']"
      ]
     },
     "execution_count": 14,
     "metadata": {},
     "output_type": "execute_result"
    }
   ],
   "source": [
    "# or, get results as a dictionary (JSON converted)\n",
    "rdict = response.json()\n",
    "\n",
    "# get some quick info on the dictionary keys\n",
    "list(rdict.keys())"
   ]
  },
  {
   "cell_type": "markdown",
   "metadata": {},
   "source": [
    "### Parsing the results\n",
    "In GBIF our response can be parsed into a dictionary object using the JSON format, and this has six keys shown above. These are explained in the API docs, and correspond to information about what records are available for our query. However, it did not return *all* of the data for those records to us yet. That would be too easy. Instead, databases usually have limits on the amount of data from each request as a way of limiting the bandwidth they will need for sending the data, and to make it faster. For GBIF the default number, shown under the \"limit\" key, is 20. And the default starting position, shown under \"offset\" is 0. The total number of records is in \"count\". So for *Bombus*, as we show below, there are >2M records, but only records 1-20 were returned to us so far."
   ]
  },
  {
   "cell_type": "code",
   "execution_count": 16,
   "metadata": {},
   "outputs": [
    {
     "data": {
      "text/plain": [
       "2658388"
      ]
     },
     "execution_count": 16,
     "metadata": {},
     "output_type": "execute_result"
    }
   ],
   "source": [
    "## how many records are there for this query\n",
    "rdict[\"count\"]"
   ]
  },
  {
   "cell_type": "code",
   "execution_count": 17,
   "metadata": {},
   "outputs": [
    {
     "data": {
      "text/plain": [
       "20"
      ]
     },
     "execution_count": 17,
     "metadata": {},
     "output_type": "execute_result"
    }
   ],
   "source": [
    "## how many records were returned\n",
    "rdict[\"limit\"]"
   ]
  },
  {
   "cell_type": "code",
   "execution_count": 18,
   "metadata": {},
   "outputs": [
    {
     "data": {
      "text/plain": [
       "0"
      ]
     },
     "execution_count": 18,
     "metadata": {},
     "output_type": "execute_result"
    }
   ],
   "source": [
    "## starting from which record\n",
    "rdict[\"offset\"]"
   ]
  },
  {
   "cell_type": "markdown",
   "metadata": {},
   "source": [
    "### So where's the data?\n",
    "It's stored under the `results` key, and is returned as a list of dictionaries, where each dictionary is a record with lots of information. Below I show the first record from our search. "
   ]
  },
  {
   "cell_type": "code",
   "execution_count": 40,
   "metadata": {},
   "outputs": [
    {
     "data": {
      "text/plain": [
       "{'key': 1736840426,\n",
       " 'datasetKey': '4fa7b334-ce0d-4e88-aaae-2e0c138d049e',\n",
       " 'publishingOrgKey': 'e2e717bf-551a-4917-bdc9-4fa0f342c530',\n",
       " 'installationKey': '7182d304-b0a2-404b-baba-2086a325c221',\n",
       " 'publishingCountry': 'EC',\n",
       " 'protocol': 'DWC_ARCHIVE',\n",
       " 'lastCrawled': '2020-06-30T08:20:54.124+00:00',\n",
       " 'lastParsed': '2020-12-16T12:05:42.432+00:00',\n",
       " 'crawlId': 13,\n",
       " 'hostingOrganizationKey': 'e2e717bf-551a-4917-bdc9-4fa0f342c530',\n",
       " 'extensions': {},\n",
       " 'basisOfRecord': 'HUMAN_OBSERVATION',\n",
       " 'individualCount': 1,\n",
       " 'occurrenceStatus': 'PRESENT',\n",
       " 'taxonKey': 5228583,\n",
       " 'kingdomKey': 1,\n",
       " 'phylumKey': 44,\n",
       " 'classKey': 212,\n",
       " 'orderKey': 1448,\n",
       " 'familyKey': 5289,\n",
       " 'genusKey': 2476913,\n",
       " 'speciesKey': 5228583,\n",
       " 'acceptedTaxonKey': 5228583,\n",
       " 'scientificName': 'Chaetocercus bombus Gould, 1871',\n",
       " 'acceptedScientificName': 'Chaetocercus bombus Gould, 1871',\n",
       " 'kingdom': 'Animalia',\n",
       " 'phylum': 'Chordata',\n",
       " 'order': 'Apodiformes',\n",
       " 'family': 'Trochilidae',\n",
       " 'genus': 'Chaetocercus',\n",
       " 'species': 'Chaetocercus bombus',\n",
       " 'genericName': 'Chaetocercus',\n",
       " 'specificEpithet': 'bombus',\n",
       " 'taxonRank': 'SPECIES',\n",
       " 'taxonomicStatus': 'ACCEPTED',\n",
       " 'decimalLongitude': -80.1245,\n",
       " 'decimalLatitude': -0.11602,\n",
       " 'stateProvince': 'Manabí',\n",
       " 'year': 2016,\n",
       " 'month': 5,\n",
       " 'day': 1,\n",
       " 'eventDate': '2016-05-01T00:00:00',\n",
       " 'issues': ['COLLECTION_MATCH_NONE', 'INSTITUTION_MATCH_FUZZY'],\n",
       " 'lastInterpreted': '2020-12-16T12:05:42.432+00:00',\n",
       " 'license': 'http://creativecommons.org/publicdomain/zero/1.0/legalcode',\n",
       " 'identifiers': [],\n",
       " 'media': [],\n",
       " 'facts': [],\n",
       " 'relations': [],\n",
       " 'gadm': {'level0': {'gid': 'ECU', 'name': 'Ecuador'},\n",
       "  'level1': {'gid': 'ECU.14_1', 'name': 'Manabi'},\n",
       "  'level2': {'gid': 'ECU.14.6_1', 'name': 'Jama'},\n",
       "  'level3': {'gid': 'ECU.14.6.1_1', 'name': 'Jama'}},\n",
       " 'institutionKey': '8d313059-3f5e-411e-b176-6553050ff8c6',\n",
       " 'isInCluster': False,\n",
       " 'geodeticDatum': 'WGS84',\n",
       " 'class': 'Aves',\n",
       " 'countryCode': 'EC',\n",
       " 'recordedByIDs': [],\n",
       " 'identifiedByIDs': [],\n",
       " 'country': 'Ecuador',\n",
       " 'identifier': 'OBS402124809',\n",
       " 'recordedBy': 'obsr503692',\n",
       " 'catalogNumber': 'OBS402124809',\n",
       " 'vernacularName': 'Little Woodstar',\n",
       " 'institutionCode': 'CLO',\n",
       " 'locality': 'Jama-Coaque Reserve',\n",
       " 'gbifID': '1736840426',\n",
       " 'collectionCode': 'EBIRD',\n",
       " 'occurrenceID': 'URN:catalog:CLO:EBIRD:OBS402124809'}"
      ]
     },
     "execution_count": 40,
     "metadata": {},
     "output_type": "execute_result"
    }
   ],
   "source": [
    "# here is the first record, it's also a dictionary\n",
    "rdict[\"results\"][0]"
   ]
  },
  {
   "cell_type": "markdown",
   "metadata": {},
   "source": [
    "There are too many columns for you see them all here. We will call .columns to see all the column names printed as a list."
   ]
  },
  {
   "cell_type": "code",
   "execution_count": 32,
   "metadata": {},
   "outputs": [
    {
     "data": {
      "text/html": [
       "<div>\n",
       "<style scoped>\n",
       "    .dataframe tbody tr th:only-of-type {\n",
       "        vertical-align: middle;\n",
       "    }\n",
       "\n",
       "    .dataframe tbody tr th {\n",
       "        vertical-align: top;\n",
       "    }\n",
       "\n",
       "    .dataframe thead th {\n",
       "        text-align: right;\n",
       "    }\n",
       "</style>\n",
       "<table border=\"1\" class=\"dataframe\">\n",
       "  <thead>\n",
       "    <tr style=\"text-align: right;\">\n",
       "      <th></th>\n",
       "      <th>key</th>\n",
       "      <th>datasetKey</th>\n",
       "      <th>publishingOrgKey</th>\n",
       "      <th>installationKey</th>\n",
       "      <th>publishingCountry</th>\n",
       "      <th>protocol</th>\n",
       "      <th>lastCrawled</th>\n",
       "      <th>lastParsed</th>\n",
       "      <th>crawlId</th>\n",
       "      <th>hostingOrganizationKey</th>\n",
       "      <th>...</th>\n",
       "      <th>collectionCode</th>\n",
       "      <th>occurrenceID</th>\n",
       "      <th>gadm.level0.gid</th>\n",
       "      <th>gadm.level0.name</th>\n",
       "      <th>gadm.level1.gid</th>\n",
       "      <th>gadm.level1.name</th>\n",
       "      <th>gadm.level2.gid</th>\n",
       "      <th>gadm.level2.name</th>\n",
       "      <th>gadm.level3.gid</th>\n",
       "      <th>gadm.level3.name</th>\n",
       "    </tr>\n",
       "  </thead>\n",
       "  <tbody>\n",
       "    <tr>\n",
       "      <th>0</th>\n",
       "      <td>1736840426</td>\n",
       "      <td>4fa7b334-ce0d-4e88-aaae-2e0c138d049e</td>\n",
       "      <td>e2e717bf-551a-4917-bdc9-4fa0f342c530</td>\n",
       "      <td>7182d304-b0a2-404b-baba-2086a325c221</td>\n",
       "      <td>EC</td>\n",
       "      <td>DWC_ARCHIVE</td>\n",
       "      <td>2020-06-30T08:20:54.124+00:00</td>\n",
       "      <td>2020-12-16T12:05:42.432+00:00</td>\n",
       "      <td>13</td>\n",
       "      <td>e2e717bf-551a-4917-bdc9-4fa0f342c530</td>\n",
       "      <td>...</td>\n",
       "      <td>EBIRD</td>\n",
       "      <td>URN:catalog:CLO:EBIRD:OBS402124809</td>\n",
       "      <td>ECU</td>\n",
       "      <td>Ecuador</td>\n",
       "      <td>ECU.14_1</td>\n",
       "      <td>Manabi</td>\n",
       "      <td>ECU.14.6_1</td>\n",
       "      <td>Jama</td>\n",
       "      <td>ECU.14.6.1_1</td>\n",
       "      <td>Jama</td>\n",
       "    </tr>\n",
       "    <tr>\n",
       "      <th>1</th>\n",
       "      <td>1792076088</td>\n",
       "      <td>4fa7b334-ce0d-4e88-aaae-2e0c138d049e</td>\n",
       "      <td>e2e717bf-551a-4917-bdc9-4fa0f342c530</td>\n",
       "      <td>7182d304-b0a2-404b-baba-2086a325c221</td>\n",
       "      <td>EC</td>\n",
       "      <td>DWC_ARCHIVE</td>\n",
       "      <td>2020-06-30T08:20:54.124+00:00</td>\n",
       "      <td>2020-12-16T11:56:34.230+00:00</td>\n",
       "      <td>13</td>\n",
       "      <td>e2e717bf-551a-4917-bdc9-4fa0f342c530</td>\n",
       "      <td>...</td>\n",
       "      <td>EBIRD</td>\n",
       "      <td>URN:catalog:CLO:EBIRD:OBS530014911</td>\n",
       "      <td>ECU</td>\n",
       "      <td>Ecuador</td>\n",
       "      <td>ECU.24_1</td>\n",
       "      <td>Zamora Chinchipe</td>\n",
       "      <td>ECU.24.9_1</td>\n",
       "      <td>Zamora</td>\n",
       "      <td>ECU.24.9.7_1</td>\n",
       "      <td>Zamora</td>\n",
       "    </tr>\n",
       "    <tr>\n",
       "      <th>2</th>\n",
       "      <td>2166158994</td>\n",
       "      <td>4fa7b334-ce0d-4e88-aaae-2e0c138d049e</td>\n",
       "      <td>e2e717bf-551a-4917-bdc9-4fa0f342c530</td>\n",
       "      <td>7182d304-b0a2-404b-baba-2086a325c221</td>\n",
       "      <td>EC</td>\n",
       "      <td>DWC_ARCHIVE</td>\n",
       "      <td>2020-06-30T08:20:54.124+00:00</td>\n",
       "      <td>2020-12-16T11:57:36.251+00:00</td>\n",
       "      <td>13</td>\n",
       "      <td>e2e717bf-551a-4917-bdc9-4fa0f342c530</td>\n",
       "      <td>...</td>\n",
       "      <td>EBIRD</td>\n",
       "      <td>URN:catalog:CLO:EBIRD:OBS634085750</td>\n",
       "      <td>ECU</td>\n",
       "      <td>Ecuador</td>\n",
       "      <td>ECU.10_1</td>\n",
       "      <td>Guayas</td>\n",
       "      <td>ECU.10.11_1</td>\n",
       "      <td>Guayaquil</td>\n",
       "      <td>ECU.10.11.1_1</td>\n",
       "      <td>Guayaquil</td>\n",
       "    </tr>\n",
       "    <tr>\n",
       "      <th>3</th>\n",
       "      <td>2049507065</td>\n",
       "      <td>4fa7b334-ce0d-4e88-aaae-2e0c138d049e</td>\n",
       "      <td>e2e717bf-551a-4917-bdc9-4fa0f342c530</td>\n",
       "      <td>7182d304-b0a2-404b-baba-2086a325c221</td>\n",
       "      <td>PE</td>\n",
       "      <td>DWC_ARCHIVE</td>\n",
       "      <td>2020-06-30T08:20:54.124+00:00</td>\n",
       "      <td>2020-12-16T11:55:41.933+00:00</td>\n",
       "      <td>13</td>\n",
       "      <td>e2e717bf-551a-4917-bdc9-4fa0f342c530</td>\n",
       "      <td>...</td>\n",
       "      <td>EBIRD</td>\n",
       "      <td>URN:catalog:CLO:EBIRD:OBS472174822</td>\n",
       "      <td>PER</td>\n",
       "      <td>Peru</td>\n",
       "      <td>PER.14_1</td>\n",
       "      <td>Lambayeque</td>\n",
       "      <td>PER.14.1_1</td>\n",
       "      <td>Chiclayo</td>\n",
       "      <td>PER.14.1.2_1</td>\n",
       "      <td>Chongoyape</td>\n",
       "    </tr>\n",
       "    <tr>\n",
       "      <th>4</th>\n",
       "      <td>2717495696</td>\n",
       "      <td>4fa7b334-ce0d-4e88-aaae-2e0c138d049e</td>\n",
       "      <td>e2e717bf-551a-4917-bdc9-4fa0f342c530</td>\n",
       "      <td>7182d304-b0a2-404b-baba-2086a325c221</td>\n",
       "      <td>PE</td>\n",
       "      <td>DWC_ARCHIVE</td>\n",
       "      <td>2020-06-30T08:20:54.124+00:00</td>\n",
       "      <td>2020-12-16T11:59:35.037+00:00</td>\n",
       "      <td>13</td>\n",
       "      <td>e2e717bf-551a-4917-bdc9-4fa0f342c530</td>\n",
       "      <td>...</td>\n",
       "      <td>EBIRD</td>\n",
       "      <td>URN:catalog:CLO:EBIRD:OBS822898729</td>\n",
       "      <td>PER</td>\n",
       "      <td>Peru</td>\n",
       "      <td>PER.1_1</td>\n",
       "      <td>Amazonas</td>\n",
       "      <td>PER.1.2_1</td>\n",
       "      <td>Bongará</td>\n",
       "      <td>PER.1.2.5_1</td>\n",
       "      <td>Florida</td>\n",
       "    </tr>\n",
       "  </tbody>\n",
       "</table>\n",
       "<p>5 rows × 73 columns</p>\n",
       "</div>"
      ],
      "text/plain": [
       "          key                            datasetKey  \\\n",
       "0  1736840426  4fa7b334-ce0d-4e88-aaae-2e0c138d049e   \n",
       "1  1792076088  4fa7b334-ce0d-4e88-aaae-2e0c138d049e   \n",
       "2  2166158994  4fa7b334-ce0d-4e88-aaae-2e0c138d049e   \n",
       "3  2049507065  4fa7b334-ce0d-4e88-aaae-2e0c138d049e   \n",
       "4  2717495696  4fa7b334-ce0d-4e88-aaae-2e0c138d049e   \n",
       "\n",
       "                       publishingOrgKey                       installationKey  \\\n",
       "0  e2e717bf-551a-4917-bdc9-4fa0f342c530  7182d304-b0a2-404b-baba-2086a325c221   \n",
       "1  e2e717bf-551a-4917-bdc9-4fa0f342c530  7182d304-b0a2-404b-baba-2086a325c221   \n",
       "2  e2e717bf-551a-4917-bdc9-4fa0f342c530  7182d304-b0a2-404b-baba-2086a325c221   \n",
       "3  e2e717bf-551a-4917-bdc9-4fa0f342c530  7182d304-b0a2-404b-baba-2086a325c221   \n",
       "4  e2e717bf-551a-4917-bdc9-4fa0f342c530  7182d304-b0a2-404b-baba-2086a325c221   \n",
       "\n",
       "  publishingCountry     protocol                    lastCrawled  \\\n",
       "0                EC  DWC_ARCHIVE  2020-06-30T08:20:54.124+00:00   \n",
       "1                EC  DWC_ARCHIVE  2020-06-30T08:20:54.124+00:00   \n",
       "2                EC  DWC_ARCHIVE  2020-06-30T08:20:54.124+00:00   \n",
       "3                PE  DWC_ARCHIVE  2020-06-30T08:20:54.124+00:00   \n",
       "4                PE  DWC_ARCHIVE  2020-06-30T08:20:54.124+00:00   \n",
       "\n",
       "                      lastParsed  crawlId  \\\n",
       "0  2020-12-16T12:05:42.432+00:00       13   \n",
       "1  2020-12-16T11:56:34.230+00:00       13   \n",
       "2  2020-12-16T11:57:36.251+00:00       13   \n",
       "3  2020-12-16T11:55:41.933+00:00       13   \n",
       "4  2020-12-16T11:59:35.037+00:00       13   \n",
       "\n",
       "                 hostingOrganizationKey  ... collectionCode  \\\n",
       "0  e2e717bf-551a-4917-bdc9-4fa0f342c530  ...          EBIRD   \n",
       "1  e2e717bf-551a-4917-bdc9-4fa0f342c530  ...          EBIRD   \n",
       "2  e2e717bf-551a-4917-bdc9-4fa0f342c530  ...          EBIRD   \n",
       "3  e2e717bf-551a-4917-bdc9-4fa0f342c530  ...          EBIRD   \n",
       "4  e2e717bf-551a-4917-bdc9-4fa0f342c530  ...          EBIRD   \n",
       "\n",
       "                         occurrenceID gadm.level0.gid  gadm.level0.name  \\\n",
       "0  URN:catalog:CLO:EBIRD:OBS402124809             ECU           Ecuador   \n",
       "1  URN:catalog:CLO:EBIRD:OBS530014911             ECU           Ecuador   \n",
       "2  URN:catalog:CLO:EBIRD:OBS634085750             ECU           Ecuador   \n",
       "3  URN:catalog:CLO:EBIRD:OBS472174822             PER              Peru   \n",
       "4  URN:catalog:CLO:EBIRD:OBS822898729             PER              Peru   \n",
       "\n",
       "   gadm.level1.gid  gadm.level1.name  gadm.level2.gid  gadm.level2.name  \\\n",
       "0         ECU.14_1            Manabi       ECU.14.6_1              Jama   \n",
       "1         ECU.24_1  Zamora Chinchipe       ECU.24.9_1            Zamora   \n",
       "2         ECU.10_1            Guayas      ECU.10.11_1         Guayaquil   \n",
       "3         PER.14_1        Lambayeque       PER.14.1_1          Chiclayo   \n",
       "4          PER.1_1          Amazonas        PER.1.2_1           Bongará   \n",
       "\n",
       "   gadm.level3.gid  gadm.level3.name  \n",
       "0     ECU.14.6.1_1              Jama  \n",
       "1     ECU.24.9.7_1            Zamora  \n",
       "2    ECU.10.11.1_1         Guayaquil  \n",
       "3     PER.14.1.2_1        Chongoyape  \n",
       "4      PER.1.2.5_1           Florida  \n",
       "\n",
       "[5 rows x 73 columns]"
      ]
     },
     "execution_count": 32,
     "metadata": {},
     "output_type": "execute_result"
    }
   ],
   "source": [
    "# load as a dataframe\n",
    "sdf = pd.json_normalize(rdict['results'])\n",
    "sdf.head()"
   ]
  },
  {
   "cell_type": "code",
   "execution_count": 33,
   "metadata": {},
   "outputs": [
    {
     "data": {
      "text/plain": [
       "Index(['key', 'datasetKey', 'publishingOrgKey', 'installationKey',\n",
       "       'publishingCountry', 'protocol', 'lastCrawled', 'lastParsed', 'crawlId',\n",
       "       'hostingOrganizationKey', 'basisOfRecord', 'individualCount',\n",
       "       'occurrenceStatus', 'taxonKey', 'kingdomKey', 'phylumKey', 'classKey',\n",
       "       'orderKey', 'familyKey', 'genusKey', 'speciesKey', 'acceptedTaxonKey',\n",
       "       'scientificName', 'acceptedScientificName', 'kingdom', 'phylum',\n",
       "       'order', 'family', 'genus', 'species', 'genericName', 'specificEpithet',\n",
       "       'taxonRank', 'taxonomicStatus', 'decimalLongitude', 'decimalLatitude',\n",
       "       'stateProvince', 'year', 'month', 'day', 'eventDate', 'issues',\n",
       "       'lastInterpreted', 'license', 'identifiers', 'media', 'facts',\n",
       "       'relations', 'institutionKey', 'isInCluster', 'geodeticDatum', 'class',\n",
       "       'countryCode', 'recordedByIDs', 'identifiedByIDs', 'country',\n",
       "       'identifier', 'recordedBy', 'catalogNumber', 'vernacularName',\n",
       "       'institutionCode', 'locality', 'gbifID', 'collectionCode',\n",
       "       'occurrenceID', 'gadm.level0.gid', 'gadm.level0.name',\n",
       "       'gadm.level1.gid', 'gadm.level1.name', 'gadm.level2.gid',\n",
       "       'gadm.level2.name', 'gadm.level3.gid', 'gadm.level3.name'],\n",
       "      dtype='object')"
      ]
     },
     "execution_count": 33,
     "metadata": {},
     "output_type": "execute_result"
    }
   ],
   "source": [
    "sdf.columns"
   ]
  },
  {
   "cell_type": "markdown",
   "metadata": {},
   "source": [
    "### Building a request\n",
    "Here we add more arguments to further filter the results. To see which options are available, you can either look at the results from our existing calls so far, or you can read further into the API docs. Sometimes API docs will be incomplete though, so it can be useful to learn to try to infer which options are possible from looking at the results. A more complex search is accomplished by building a URL that has more key:value pairs each appended to the end of the URL, and separated by a \"&\" symbol. For large searches it begins to get difficult to write out by hand, and that is where `requests` comes in handy. Here we enter the additional arguments we want using a simple python dictionary into the entry 'params'."
   ]
  },
  {
   "cell_type": "code",
   "execution_count": 45,
   "metadata": {},
   "outputs": [],
   "source": [
    "# previously we wrote this request by hand\n",
    "urlpath = \"http://api.gbif.org/v1/occurrence/search?q=Bombus\""
   ]
  },
  {
   "cell_type": "code",
   "execution_count": 46,
   "metadata": {},
   "outputs": [
    {
     "name": "stdout",
     "output_type": "stream",
     "text": [
      "https://api.gbif.org/v1/occurrence/search/?q=Bombus\n"
     ]
    }
   ],
   "source": [
    "# here we create the same urlpath using params\n",
    "response = requests.get(\n",
    "    url=\"https://api.gbif.org/v1/occurrence/search/\",\n",
    "    params={\"q\": \"Bombus\"}\n",
    ")\n",
    "\n",
    "# get url path\n",
    "print(response.url)"
   ]
  },
  {
   "cell_type": "markdown",
   "metadata": {},
   "source": [
    "### Narrowing requests\n",
    "If you looked closely at the results above you may have noticed that the records returned are *not* actually all for organisms in the genus Bombus. Instead results include things like *Chaetocercus bombus* and other organisms that happen to have \"bombus\" in their names.\n",
    "\n",
    "This is why its important to look closely at your data. Looking back at the documentation we can see that the 'q=something' search parameter returns a fuzzy hit to anything that has the query in its data. If we instead want to restrict to the genus Bombus we need to find the `genusKey` for Bombus. This can be found using the 'species' endpoint in the API. So let's take a side track to find this. Note we are searching a *different* baseurl now, to look in the 'species' path instead of the 'occurrence' path. \n",
    "\n",
    "The results below provide unique identifiers that are more reliable for searching the database. We will use the genusKey=1340278 for our next search of the occurrence database."
   ]
  },
  {
   "cell_type": "code",
   "execution_count": 47,
   "metadata": {},
   "outputs": [
    {
     "data": {
      "text/plain": [
       "{'usageKey': 1340278,\n",
       " 'scientificName': 'Bombus Latreille, 1802',\n",
       " 'canonicalName': 'Bombus',\n",
       " 'rank': 'GENUS',\n",
       " 'status': 'ACCEPTED',\n",
       " 'confidence': 97,\n",
       " 'matchType': 'HIGHERRANK',\n",
       " 'kingdom': 'Animalia',\n",
       " 'phylum': 'Arthropoda',\n",
       " 'order': 'Hymenoptera',\n",
       " 'family': 'Apidae',\n",
       " 'genus': 'Bombus',\n",
       " 'kingdomKey': 1,\n",
       " 'phylumKey': 54,\n",
       " 'classKey': 216,\n",
       " 'orderKey': 1457,\n",
       " 'familyKey': 4334,\n",
       " 'genusKey': 1340278,\n",
       " 'synonym': False,\n",
       " 'class': 'Insecta'}"
      ]
     },
     "execution_count": 47,
     "metadata": {},
     "output_type": "execute_result"
    }
   ],
   "source": [
    "# get taxonomy info for the genus Bombus\n",
    "res = requests.get(\n",
    "    url=\"https://api.gbif.org/v1/species/match/\",\n",
    "    params={\"genus\": \"Bombus\"},\n",
    ")\n",
    "res.json()"
   ]
  },
  {
   "cell_type": "markdown",
   "metadata": {},
   "source": [
    "### Building more complex queries\n",
    "\n",
    "Below I show the URL for when we add the requirement that a record have coordinate data, and for when we add additional arguments to raise the limit for the number of records returned. The max records at a time (limit - offset) is 300. Above that you need to increment the offset to search higher values."
   ]
  },
  {
   "cell_type": "code",
   "execution_count": 55,
   "metadata": {},
   "outputs": [
    {
     "data": {
      "text/plain": [
       "'https://api.gbif.org/v1/occurrence/search/?genusKey=1340278&hasCoordinate=true'"
      ]
     },
     "execution_count": 55,
     "metadata": {},
     "output_type": "execute_result"
    }
   ],
   "source": [
    "# add requirement that the record have coordinate data\n",
    "res = requests.get(\n",
    "    url=\"https://api.gbif.org/v1/occurrence/search/\",\n",
    "    params={\n",
    "        \"genusKey\": 1340278, \n",
    "        \"hasCoordinate\": \"true\",\n",
    "    }\n",
    ")\n",
    "res.url"
   ]
  },
  {
   "cell_type": "code",
   "execution_count": 56,
   "metadata": {},
   "outputs": [
    {
     "data": {
      "text/plain": [
       "'https://api.gbif.org/v1/occurrence/search/?genusKey=1340278&hasCoordinate=true&offset=0&limit=100'"
      ]
     },
     "execution_count": 56,
     "metadata": {},
     "output_type": "execute_result"
    }
   ],
   "source": [
    "# request records 0-100\n",
    "res = requests.get(\n",
    "    url=\"https://api.gbif.org/v1/occurrence/search/\",\n",
    "    params={\n",
    "        \"genusKey\": 1340278, \n",
    "        \"hasCoordinate\": \"true\",\n",
    "        \"offset\": \"0\", \n",
    "        \"limit\": \"100\"\n",
    "    }\n",
    ")\n",
    "res.url"
   ]
  },
  {
   "cell_type": "markdown",
   "metadata": {},
   "source": [
    "### A complex search\n",
    "Here I request all Bombus records from 1900-1910 that are associated with a preserved specimen (as opposed to HUMAN_OBSERVATION or FOSSIL_SPECIMEN), has spatial data, and is in the US. The 'count' shows us that there are >6000 records meeting these requirements. We requested the max of 300 records. "
   ]
  },
  {
   "cell_type": "code",
   "execution_count": 57,
   "metadata": {},
   "outputs": [
    {
     "name": "stdout",
     "output_type": "stream",
     "text": [
      "6699\n"
     ]
    }
   ],
   "source": [
    "res = requests.get(\n",
    "    url=\"https://api.gbif.org/v1/occurrence/search/\",\n",
    "    params={\n",
    "        \"genusKey\": 1340278, \n",
    "        \"year\": \"1900,1910\", \n",
    "        \"basisOfRecord\": \"PRESERVED_SPECIMEN\",\n",
    "        \"hasCoordinate\": \"true\",\n",
    "        \"hasGeospatialIssue\": \"false\",\n",
    "        \"country\": \"US\",\n",
    "        \"offset\": \"0\",\n",
    "        \"limit\": \"300\"\n",
    "    },\n",
    ")\n",
    "\n",
    "print(res.json()[\"count\"])"
   ]
  },
  {
   "cell_type": "markdown",
   "metadata": {},
   "source": [
    "### Combining many searches\n",
    "If we wanted to collect all records for a given search then we need to increment the \"offset\" argument until we reach the end of the records. Each is returned as a list of dictionaries, so we can just join all of those lists together and return them. That sounds a bit complex, so let's write a function to do it:"
   ]
  },
  {
   "cell_type": "code",
   "execution_count": 62,
   "metadata": {},
   "outputs": [],
   "source": [
    "def get_all_records(baseurl, query_dict):\n",
    "    \"\"\"\n",
    "    iterate requests until end of records. Input is a valid\n",
    "    base URL of an API, and a query dict with search params\n",
    "    including an \"offset\" integer.\n",
    "    \"\"\"\n",
    "    start = 0\n",
    "    data = []\n",
    "    \n",
    "    while 1:\n",
    "        # make request and store results\n",
    "        res = requests.get(\n",
    "            url=baseurl, \n",
    "            params=query_dict,\n",
    "        )\n",
    "        \n",
    "        # increment counter by 300\n",
    "        query_dict[\"offset\"] = str(int(query_dict[\"offset\"]) + 300)\n",
    "        \n",
    "        # concatenate data \n",
    "        idata = res.json()\n",
    "        data += idata[\"results\"]\n",
    "        \n",
    "        # stop when end of record is reached\n",
    "        if idata[\"endOfRecords\"]:\n",
    "            break\n",
    "        \n",
    "    return data"
   ]
  },
  {
   "cell_type": "code",
   "execution_count": 63,
   "metadata": {},
   "outputs": [],
   "source": [
    "# make params dictionary\n",
    "query_dict = {\n",
    "    \"genusKey\": 1340278, \n",
    "    \"year\": \"1900,1910\", \n",
    "    \"basisOfRecord\": \"PRESERVED_SPECIMEN\",\n",
    "    \"hasCoordinate\": \"true\",\n",
    "    \"hasGeospatialIssue\": \"false\",\n",
    "    \"country\": \"US\",\n",
    "    \"offset\": \"0\",\n",
    "    \"limit\": \"300\"\n",
    "}\n",
    "\n",
    "# call function to search over all offset values until end. \n",
    "# THIS MAY TAKE A FEW MINUTES TO RUN\n",
    "data = get_all_records(\n",
    "    baseurl=\"https://api.gbif.org/v1/occurrence/search/\",\n",
    "    query_dict=query_dict,\n",
    ")"
   ]
  },
  {
   "cell_type": "markdown",
   "metadata": {},
   "source": [
    "### The full data"
   ]
  },
  {
   "cell_type": "code",
   "execution_count": 64,
   "metadata": {},
   "outputs": [],
   "source": [
    "# convert to a data frame\n",
    "df = pd.json_normalize(data)"
   ]
  },
  {
   "cell_type": "code",
   "execution_count": 65,
   "metadata": {
    "scrolled": false
   },
   "outputs": [
    {
     "data": {
      "text/plain": [
       "['key',\n",
       " 'datasetKey',\n",
       " 'publishingOrgKey',\n",
       " 'installationKey',\n",
       " 'publishingCountry',\n",
       " 'protocol',\n",
       " 'lastCrawled',\n",
       " 'lastParsed',\n",
       " 'crawlId',\n",
       " 'hostingOrganizationKey',\n",
       " 'basisOfRecord',\n",
       " 'occurrenceStatus',\n",
       " 'taxonKey',\n",
       " 'kingdomKey',\n",
       " 'phylumKey',\n",
       " 'classKey',\n",
       " 'orderKey',\n",
       " 'familyKey',\n",
       " 'genusKey',\n",
       " 'speciesKey',\n",
       " 'acceptedTaxonKey',\n",
       " 'scientificName',\n",
       " 'acceptedScientificName',\n",
       " 'kingdom',\n",
       " 'phylum',\n",
       " 'order',\n",
       " 'family',\n",
       " 'genus',\n",
       " 'species',\n",
       " 'genericName',\n",
       " 'specificEpithet',\n",
       " 'taxonRank',\n",
       " 'taxonomicStatus',\n",
       " 'decimalLongitude',\n",
       " 'decimalLatitude',\n",
       " 'stateProvince',\n",
       " 'year',\n",
       " 'month',\n",
       " 'day',\n",
       " 'eventDate',\n",
       " 'issues',\n",
       " 'lastInterpreted',\n",
       " 'license',\n",
       " 'identifiers',\n",
       " 'media',\n",
       " 'facts',\n",
       " 'relations',\n",
       " 'institutionKey',\n",
       " 'collectionKey',\n",
       " 'isInCluster',\n",
       " 'geodeticDatum',\n",
       " 'class',\n",
       " 'countryCode',\n",
       " 'recordedByIDs',\n",
       " 'identifiedByIDs',\n",
       " 'country',\n",
       " 'catalogNumber',\n",
       " 'institutionCode',\n",
       " 'county',\n",
       " 'gbifID',\n",
       " 'collectionCode',\n",
       " 'identifiedBy',\n",
       " 'gadm.level0.gid',\n",
       " 'gadm.level0.name',\n",
       " 'gadm.level1.gid',\n",
       " 'gadm.level1.name',\n",
       " 'gadm.level2.gid',\n",
       " 'gadm.level2.name',\n",
       " 'individualCount',\n",
       " 'lifeStage',\n",
       " 'coordinateUncertaintyInMeters',\n",
       " 'references',\n",
       " 'preparations',\n",
       " 'identifier',\n",
       " 'recordedBy',\n",
       " 'rights',\n",
       " 'locality',\n",
       " 'occurrenceID',\n",
       " 'accessRights',\n",
       " 'modified',\n",
       " 'rightsHolder',\n",
       " 'verbatimEventDate',\n",
       " 'http://unknown.org/recordId',\n",
       " 'taxonID',\n",
       " 'disposition',\n",
       " 'startDayOfYear',\n",
       " 'ownerInstitutionCode',\n",
       " 'http://unknown.org/recordEnteredBy',\n",
       " 'collectionID',\n",
       " 'georeferenceSources',\n",
       " 'networkKeys',\n",
       " 'institutionID',\n",
       " 'higherGeography',\n",
       " 'georeferenceProtocol',\n",
       " 'endDayOfYear',\n",
       " 'datasetName',\n",
       " 'type',\n",
       " 'occurrenceRemarks',\n",
       " 'higherClassification',\n",
       " 'extensions.http://rs.tdwg.org/ac/terms/Multimedia',\n",
       " 'infraspecificEpithet',\n",
       " 'sex',\n",
       " 'dateIdentified',\n",
       " 'locationRemarks',\n",
       " 'georeferencedBy',\n",
       " 'georeferenceRemarks',\n",
       " 'otherCatalogNumbers',\n",
       " 'samplingProtocol',\n",
       " 'elevation',\n",
       " 'continent',\n",
       " 'language',\n",
       " 'organismID',\n",
       " 'datasetID',\n",
       " 'dynamicProperties',\n",
       " 'associatedReferences',\n",
       " 'taxonRemarks',\n",
       " 'vernacularName',\n",
       " 'georeferencedDate',\n",
       " 'nomenclaturalCode',\n",
       " 'previousIdentifications',\n",
       " 'bibliographicCitation',\n",
       " 'scientificNameID',\n",
       " 'fieldNotes',\n",
       " 'eventRemarks',\n",
       " 'organismRemarks',\n",
       " 'elevationAccuracy',\n",
       " 'municipality',\n",
       " 'source',\n",
       " 'associatedTaxa',\n",
       " 'typeStatus',\n",
       " 'identificationVerificationStatus',\n",
       " 'locationAccordingTo',\n",
       " 'eventTime',\n",
       " 'identificationRemarks',\n",
       " 'informationWithheld',\n",
       " 'georeferenceVerificationStatus',\n",
       " 'verbatimLocality',\n",
       " 'identificationQualifier',\n",
       " 'higherGeographyID',\n",
       " 'verbatimCoordinateSystem',\n",
       " 'extensions.http://rs.tdwg.org/dwc/terms/Identification',\n",
       " 'recordNumber']"
      ]
     },
     "execution_count": 65,
     "metadata": {},
     "output_type": "execute_result"
    }
   ],
   "source": [
    "# keys (columns) in the dataframe (there are many!)\n",
    "list(df.columns)"
   ]
  },
  {
   "cell_type": "code",
   "execution_count": 66,
   "metadata": {},
   "outputs": [
    {
     "data": {
      "text/html": [
       "<div>\n",
       "<style scoped>\n",
       "    .dataframe tbody tr th:only-of-type {\n",
       "        vertical-align: middle;\n",
       "    }\n",
       "\n",
       "    .dataframe tbody tr th {\n",
       "        vertical-align: top;\n",
       "    }\n",
       "\n",
       "    .dataframe thead th {\n",
       "        text-align: right;\n",
       "    }\n",
       "</style>\n",
       "<table border=\"1\" class=\"dataframe\">\n",
       "  <thead>\n",
       "    <tr style=\"text-align: right;\">\n",
       "      <th></th>\n",
       "      <th>species</th>\n",
       "      <th>year</th>\n",
       "      <th>decimalLatitude</th>\n",
       "      <th>decimalLongitude</th>\n",
       "    </tr>\n",
       "  </thead>\n",
       "  <tbody>\n",
       "    <tr>\n",
       "      <th>0</th>\n",
       "      <td>Bombus variabilis</td>\n",
       "      <td>1910</td>\n",
       "      <td>37.45000</td>\n",
       "      <td>-96.23400</td>\n",
       "    </tr>\n",
       "    <tr>\n",
       "      <th>1</th>\n",
       "      <td>Bombus vosnesenskii</td>\n",
       "      <td>1910</td>\n",
       "      <td>37.87167</td>\n",
       "      <td>-122.27278</td>\n",
       "    </tr>\n",
       "    <tr>\n",
       "      <th>2</th>\n",
       "      <td>Bombus centralis</td>\n",
       "      <td>1910</td>\n",
       "      <td>46.73081</td>\n",
       "      <td>-117.17974</td>\n",
       "    </tr>\n",
       "    <tr>\n",
       "      <th>3</th>\n",
       "      <td>Bombus occidentalis</td>\n",
       "      <td>1910</td>\n",
       "      <td>37.43279</td>\n",
       "      <td>-122.16893</td>\n",
       "    </tr>\n",
       "    <tr>\n",
       "      <th>4</th>\n",
       "      <td>Bombus occidentalis</td>\n",
       "      <td>1910</td>\n",
       "      <td>46.73000</td>\n",
       "      <td>-117.17000</td>\n",
       "    </tr>\n",
       "  </tbody>\n",
       "</table>\n",
       "</div>"
      ],
      "text/plain": [
       "               species  year  decimalLatitude  decimalLongitude\n",
       "0    Bombus variabilis  1910         37.45000         -96.23400\n",
       "1  Bombus vosnesenskii  1910         37.87167        -122.27278\n",
       "2     Bombus centralis  1910         46.73081        -117.17974\n",
       "3  Bombus occidentalis  1910         37.43279        -122.16893\n",
       "4  Bombus occidentalis  1910         46.73000        -117.17000"
      ]
     },
     "execution_count": 66,
     "metadata": {},
     "output_type": "execute_result"
    }
   ],
   "source": [
    "# view just the columns we're interested in for now.\n",
    "sdf = df[[\"species\", \"year\", \"decimalLatitude\", \"decimalLongitude\"]]\n",
    "sdf.head()"
   ]
  },
  {
   "cell_type": "code",
   "execution_count": 67,
   "metadata": {},
   "outputs": [
    {
     "data": {
      "text/plain": [
       "(6699, 4)"
      ]
     },
     "execution_count": 67,
     "metadata": {},
     "output_type": "execute_result"
    }
   ],
   "source": [
    "# how many records?\n",
    "sdf.shape"
   ]
  },
  {
   "cell_type": "code",
   "execution_count": 69,
   "metadata": {},
   "outputs": [
    {
     "name": "stdout",
     "output_type": "stream",
     "text": [
      "['Bombus variabilis' 'Bombus vosnesenskii' 'Bombus centralis'\n",
      " 'Bombus occidentalis' 'Bombus pensylvanicus' 'Bombus impatiens' nan\n",
      " 'Bombus fervidus' 'Bombus ashtoni' 'Bombus rufocinctus'\n",
      " 'Bombus insularis' 'Bombus bifarius' 'Bombus vagans'\n",
      " 'Bombus griseocollis' 'Bombus huntii' 'Bombus nevadensis'\n",
      " 'Bombus melanopygus' 'Bombus mixtus' 'Bombus affinis'\n",
      " 'Bombus californicus' 'Bombus sitkensis' 'Bombus flavifrons'\n",
      " 'Bombus perplexus' 'Bombus crotchii' 'Bombus vandykei'\n",
      " 'Bombus bimaculatus' 'Bombus borealis' 'Bombus morrisoni'\n",
      " 'Bombus ternarius' 'Bombus fraternus' 'Bombus sylvicola'\n",
      " 'Bombus terricola' 'Bombus lapponicus' 'Bombus polaris'\n",
      " 'Bombus auricomus' 'Bombus citrinus' 'Bombus appositus'\n",
      " 'Bombus caliginosus' 'Bombus fernaldae' 'Bombus balteatus'\n",
      " 'Bombus suckleyi' 'Bombus patagiatus' 'Bombus weisi' 'Bombus sonorus'\n",
      " 'Bombus hyperboreus' 'Bombus rufosuffusus' 'Bombus sandersoni'\n",
      " 'Bombus cockerelli' 'Bombus intrudens' 'Bombus separatus'\n",
      " 'Bombus neoboreus']\n"
     ]
    }
   ],
   "source": [
    "# which unique species?\n",
    "print(sdf.species.unique())"
   ]
  },
  {
   "cell_type": "code",
   "execution_count": 48,
   "metadata": {},
   "outputs": [
    {
     "data": {
      "text/plain": [
       "48"
      ]
     },
     "execution_count": 48,
     "metadata": {},
     "output_type": "execute_result"
    }
   ],
   "source": [
    "# exclude nan/null and count species\n",
    "mask = sdf.species.notnull()\n",
    "df.species[mask].unique().size"
   ]
  },
  {
   "cell_type": "code",
   "execution_count": 72,
   "metadata": {},
   "outputs": [
    {
     "data": {
      "text/html": [
       "<div class=\"toyplot\" id=\"t935bf591df684862b7b2bccc5e41b3e5\" style=\"text-align:center\"><svg class=\"toyplot-canvas-Canvas\" xmlns:toyplot=\"http://www.sandia.gov/toyplot\" xmlns:xlink=\"http://www.w3.org/1999/xlink\" xmlns=\"http://www.w3.org/2000/svg\" width=\"600px\" height=\"350.0px\" viewBox=\"0 0 600 350.0\" preserveAspectRatio=\"xMidYMid meet\" style=\"background-color:transparent;border-color:#292724;border-style:none;border-width:1.0;fill:rgb(16.1%,15.3%,14.1%);fill-opacity:1.0;font-family:Helvetica;font-size:12px;opacity:1.0;stroke:rgb(16.1%,15.3%,14.1%);stroke-opacity:1.0;stroke-width:1.0\" id=\"tc35af735f8ab4ead942460705e36458e\"><g class=\"toyplot-coordinates-Cartesian\" id=\"t5d1f99657da2419fb0f2b3329532060d\"><clipPath id=\"t98caab655bee472bb0daa51600b21ecb\"><rect x=\"40.0\" y=\"40.0\" width=\"520.0\" height=\"270.0\"></rect></clipPath><g clip-path=\"url(#t98caab655bee472bb0daa51600b21ecb)\"><g class=\"toyplot-mark-BarMagnitudes\" style=\"stroke:rgb(100%,100%,100%);stroke-opacity:1.0;stroke-width:1.0\" id=\"t480da0244e614d4da5eddd8148d6f616\"><g class=\"toyplot-Series\"><rect class=\"toyplot-Datum\" x=\"50.0\" y=\"67.77777777777777\" width=\"9.900990099009903\" height=\"232.22222222222223\" style=\"fill:rgb(40%,76.1%,64.7%);fill-opacity:1.0;opacity:1.0;stroke:rgb(100%,100%,100%);stroke-opacity:1.0;stroke-width:1.0\"><title>Bombus occidentalis</title></rect><rect class=\"toyplot-Datum\" x=\"59.9009900990099\" y=\"158.8888888888889\" width=\"9.900990099009903\" height=\"141.1111111111111\" style=\"fill:rgb(40%,76.1%,64.7%);fill-opacity:1.0;opacity:1.0;stroke:rgb(100%,100%,100%);stroke-opacity:1.0;stroke-width:1.0\"><title>Bombus pensylvanicus</title></rect><rect class=\"toyplot-Datum\" x=\"69.8019801980198\" y=\"172.5\" width=\"9.900990099009888\" height=\"127.5\" style=\"fill:rgb(40%,76.1%,64.7%);fill-opacity:1.0;opacity:1.0;stroke:rgb(100%,100%,100%);stroke-opacity:1.0;stroke-width:1.0\"><title>Bombus fervidus</title></rect><rect class=\"toyplot-Datum\" x=\"79.7029702970297\" y=\"180.0\" width=\"9.900990099009917\" height=\"120.0\" style=\"fill:rgb(40%,76.1%,64.7%);fill-opacity:1.0;opacity:1.0;stroke:rgb(100%,100%,100%);stroke-opacity:1.0;stroke-width:1.0\"><title>Bombus impatiens</title></rect><rect class=\"toyplot-Datum\" x=\"89.60396039603961\" y=\"191.3888888888889\" width=\"9.900990099009903\" height=\"108.61111111111109\" style=\"fill:rgb(40%,76.1%,64.7%);fill-opacity:1.0;opacity:1.0;stroke:rgb(100%,100%,100%);stroke-opacity:1.0;stroke-width:1.0\"><title>Bombus vagans</title></rect><rect class=\"toyplot-Datum\" x=\"99.50495049504951\" y=\"201.11111111111111\" width=\"9.900990099009888\" height=\"98.88888888888889\" style=\"fill:rgb(40%,76.1%,64.7%);fill-opacity:1.0;opacity:1.0;stroke:rgb(100%,100%,100%);stroke-opacity:1.0;stroke-width:1.0\"><title>Bombus bifarius</title></rect><rect class=\"toyplot-Datum\" x=\"109.4059405940594\" y=\"206.11111111111111\" width=\"9.900990099009917\" height=\"93.88888888888889\" style=\"fill:rgb(40%,76.1%,64.7%);fill-opacity:1.0;opacity:1.0;stroke:rgb(100%,100%,100%);stroke-opacity:1.0;stroke-width:1.0\"><title>Bombus vosnesenskii</title></rect><rect class=\"toyplot-Datum\" x=\"119.30693069306932\" y=\"224.16666666666666\" width=\"9.900990099009903\" height=\"75.83333333333334\" style=\"fill:rgb(40%,76.1%,64.7%);fill-opacity:1.0;opacity:1.0;stroke:rgb(100%,100%,100%);stroke-opacity:1.0;stroke-width:1.0\"><title>Bombus griseocollis</title></rect><rect class=\"toyplot-Datum\" x=\"129.20792079207922\" y=\"235.0\" width=\"9.900990099009874\" height=\"65.0\" style=\"fill:rgb(40%,76.1%,64.7%);fill-opacity:1.0;opacity:1.0;stroke:rgb(100%,100%,100%);stroke-opacity:1.0;stroke-width:1.0\"><title>Bombus terricola</title></rect><rect class=\"toyplot-Datum\" x=\"139.1089108910891\" y=\"236.11111111111111\" width=\"9.900990099009931\" height=\"63.888888888888886\" style=\"fill:rgb(40%,76.1%,64.7%);fill-opacity:1.0;opacity:1.0;stroke:rgb(100%,100%,100%);stroke-opacity:1.0;stroke-width:1.0\"><title>Bombus melanopygus</title></rect><rect class=\"toyplot-Datum\" x=\"149.00990099009903\" y=\"251.66666666666666\" width=\"9.900990099009903\" height=\"48.33333333333334\" style=\"fill:rgb(40%,76.1%,64.7%);fill-opacity:1.0;opacity:1.0;stroke:rgb(100%,100%,100%);stroke-opacity:1.0;stroke-width:1.0\"><title>Bombus flavifrons</title></rect><rect class=\"toyplot-Datum\" x=\"158.91089108910893\" y=\"251.94444444444446\" width=\"9.900990099009874\" height=\"48.05555555555554\" style=\"fill:rgb(40%,76.1%,64.7%);fill-opacity:1.0;opacity:1.0;stroke:rgb(100%,100%,100%);stroke-opacity:1.0;stroke-width:1.0\"><title>Bombus appositus</title></rect><rect class=\"toyplot-Datum\" x=\"168.8118811881188\" y=\"252.50000000000003\" width=\"9.900990099009903\" height=\"47.49999999999997\" style=\"fill:rgb(40%,76.1%,64.7%);fill-opacity:1.0;opacity:1.0;stroke:rgb(100%,100%,100%);stroke-opacity:1.0;stroke-width:1.0\"><title>Bombus sitkensis</title></rect><rect class=\"toyplot-Datum\" x=\"178.7128712871287\" y=\"258.8888888888889\" width=\"9.900990099009931\" height=\"41.111111111111086\" style=\"fill:rgb(40%,76.1%,64.7%);fill-opacity:1.0;opacity:1.0;stroke:rgb(100%,100%,100%);stroke-opacity:1.0;stroke-width:1.0\"><title>Bombus centralis</title></rect><rect class=\"toyplot-Datum\" x=\"188.61386138613864\" y=\"260.27777777777777\" width=\"9.900990099009874\" height=\"39.72222222222223\" style=\"fill:rgb(40%,76.1%,64.7%);fill-opacity:1.0;opacity:1.0;stroke:rgb(100%,100%,100%);stroke-opacity:1.0;stroke-width:1.0\"><title>Bombus californicus</title></rect><rect class=\"toyplot-Datum\" x=\"198.5148514851485\" y=\"261.9444444444444\" width=\"9.900990099009931\" height=\"38.0555555555556\" style=\"fill:rgb(40%,76.1%,64.7%);fill-opacity:1.0;opacity:1.0;stroke:rgb(100%,100%,100%);stroke-opacity:1.0;stroke-width:1.0\"><title>Bombus affinis</title></rect><rect class=\"toyplot-Datum\" x=\"208.41584158415844\" y=\"262.5\" width=\"9.900990099009903\" height=\"37.5\" style=\"fill:rgb(40%,76.1%,64.7%);fill-opacity:1.0;opacity:1.0;stroke:rgb(100%,100%,100%);stroke-opacity:1.0;stroke-width:1.0\"><title>Bombus ternarius</title></rect><rect class=\"toyplot-Datum\" x=\"218.31683168316835\" y=\"269.7222222222222\" width=\"9.900990099009846\" height=\"30.27777777777783\" style=\"fill:rgb(40%,76.1%,64.7%);fill-opacity:1.0;opacity:1.0;stroke:rgb(100%,100%,100%);stroke-opacity:1.0;stroke-width:1.0\"><title>Bombus variabilis</title></rect><rect class=\"toyplot-Datum\" x=\"228.2178217821782\" y=\"270.0\" width=\"9.900990099009931\" height=\"30.0\" style=\"fill:rgb(40%,76.1%,64.7%);fill-opacity:1.0;opacity:1.0;stroke:rgb(100%,100%,100%);stroke-opacity:1.0;stroke-width:1.0\"><title>Bombus huntii</title></rect><rect class=\"toyplot-Datum\" x=\"238.11881188118812\" y=\"270.27777777777777\" width=\"9.900990099009903\" height=\"29.72222222222223\" style=\"fill:rgb(40%,76.1%,64.7%);fill-opacity:1.0;opacity:1.0;stroke:rgb(100%,100%,100%);stroke-opacity:1.0;stroke-width:1.0\"><title>Bombus insularis</title></rect><rect class=\"toyplot-Datum\" x=\"248.01980198019803\" y=\"272.2222222222222\" width=\"9.900990099009874\" height=\"27.77777777777783\" style=\"fill:rgb(40%,76.1%,64.7%);fill-opacity:1.0;opacity:1.0;stroke:rgb(100%,100%,100%);stroke-opacity:1.0;stroke-width:1.0\"><title>Bombus rufocinctus</title></rect><rect class=\"toyplot-Datum\" x=\"257.9207920792079\" y=\"275.5555555555556\" width=\"9.90099009900996\" height=\"24.4444444444444\" style=\"fill:rgb(40%,76.1%,64.7%);fill-opacity:1.0;opacity:1.0;stroke:rgb(100%,100%,100%);stroke-opacity:1.0;stroke-width:1.0\"><title>Bombus morrisoni</title></rect><rect class=\"toyplot-Datum\" x=\"267.82178217821786\" y=\"281.1111111111111\" width=\"9.900990099009903\" height=\"18.888888888888914\" style=\"fill:rgb(40%,76.1%,64.7%);fill-opacity:1.0;opacity:1.0;stroke:rgb(100%,100%,100%);stroke-opacity:1.0;stroke-width:1.0\"><title>Bombus fraternus</title></rect><rect class=\"toyplot-Datum\" x=\"277.72277227722776\" y=\"281.1111111111111\" width=\"9.900990099009846\" height=\"18.888888888888914\" style=\"fill:rgb(40%,76.1%,64.7%);fill-opacity:1.0;opacity:1.0;stroke:rgb(100%,100%,100%);stroke-opacity:1.0;stroke-width:1.0\"><title>Bombus auricomus</title></rect><rect class=\"toyplot-Datum\" x=\"287.6237623762376\" y=\"283.6111111111111\" width=\"9.90099009900996\" height=\"16.388888888888914\" style=\"fill:rgb(40%,76.1%,64.7%);fill-opacity:1.0;opacity:1.0;stroke:rgb(100%,100%,100%);stroke-opacity:1.0;stroke-width:1.0\"><title>Bombus bimaculatus</title></rect><rect class=\"toyplot-Datum\" x=\"297.52475247524757\" y=\"287.22222222222223\" width=\"9.900990099009846\" height=\"12.777777777777771\" style=\"fill:rgb(40%,76.1%,64.7%);fill-opacity:1.0;opacity:1.0;stroke:rgb(100%,100%,100%);stroke-opacity:1.0;stroke-width:1.0\"><title>Bombus perplexus</title></rect><rect class=\"toyplot-Datum\" x=\"307.4257425742574\" y=\"287.5\" width=\"9.90099009900996\" height=\"12.5\" style=\"fill:rgb(40%,76.1%,64.7%);fill-opacity:1.0;opacity:1.0;stroke:rgb(100%,100%,100%);stroke-opacity:1.0;stroke-width:1.0\"><title>Bombus nevadensis</title></rect><rect class=\"toyplot-Datum\" x=\"317.3267326732674\" y=\"288.0555555555556\" width=\"9.900990099009903\" height=\"11.9444444444444\" style=\"fill:rgb(40%,76.1%,64.7%);fill-opacity:1.0;opacity:1.0;stroke:rgb(100%,100%,100%);stroke-opacity:1.0;stroke-width:1.0\"><title>Bombus mixtus</title></rect><rect class=\"toyplot-Datum\" x=\"327.2277227722773\" y=\"291.1111111111111\" width=\"9.900990099009789\" height=\"8.888888888888914\" style=\"fill:rgb(40%,76.1%,64.7%);fill-opacity:1.0;opacity:1.0;stroke:rgb(100%,100%,100%);stroke-opacity:1.0;stroke-width:1.0\"><title>Bombus citrinus</title></rect><rect class=\"toyplot-Datum\" x=\"337.12871287128706\" y=\"291.9444444444444\" width=\"9.90099009900996\" height=\"8.0555555555556\" style=\"fill:rgb(40%,76.1%,64.7%);fill-opacity:1.0;opacity:1.0;stroke:rgb(100%,100%,100%);stroke-opacity:1.0;stroke-width:1.0\"><title>Bombus vandykei</title></rect><rect class=\"toyplot-Datum\" x=\"347.029702970297\" y=\"291.9444444444444\" width=\"9.900990099009903\" height=\"8.0555555555556\" style=\"fill:rgb(40%,76.1%,64.7%);fill-opacity:1.0;opacity:1.0;stroke:rgb(100%,100%,100%);stroke-opacity:1.0;stroke-width:1.0\"><title>Bombus fernaldae</title></rect><rect class=\"toyplot-Datum\" x=\"356.9306930693069\" y=\"294.4444444444444\" width=\"9.90099009900996\" height=\"5.5555555555556\" style=\"fill:rgb(40%,76.1%,64.7%);fill-opacity:1.0;opacity:1.0;stroke:rgb(100%,100%,100%);stroke-opacity:1.0;stroke-width:1.0\"><title>Bombus crotchii</title></rect><rect class=\"toyplot-Datum\" x=\"366.8316831683169\" y=\"295.0\" width=\"9.900990099009846\" height=\"5.0\" style=\"fill:rgb(40%,76.1%,64.7%);fill-opacity:1.0;opacity:1.0;stroke:rgb(100%,100%,100%);stroke-opacity:1.0;stroke-width:1.0\"><title>Bombus suckleyi</title></rect><rect class=\"toyplot-Datum\" x=\"376.73267326732673\" y=\"295.0\" width=\"9.90099009900996\" height=\"5.0\" style=\"fill:rgb(40%,76.1%,64.7%);fill-opacity:1.0;opacity:1.0;stroke:rgb(100%,100%,100%);stroke-opacity:1.0;stroke-width:1.0\"><title>Bombus caliginosus</title></rect><rect class=\"toyplot-Datum\" x=\"386.6336633663367\" y=\"296.1111111111111\" width=\"9.900990099009846\" height=\"3.888888888888914\" style=\"fill:rgb(40%,76.1%,64.7%);fill-opacity:1.0;opacity:1.0;stroke:rgb(100%,100%,100%);stroke-opacity:1.0;stroke-width:1.0\"><title>Bombus ashtoni</title></rect><rect class=\"toyplot-Datum\" x=\"396.53465346534654\" y=\"296.9444444444444\" width=\"9.900990099009846\" height=\"3.0555555555555998\" style=\"fill:rgb(40%,76.1%,64.7%);fill-opacity:1.0;opacity:1.0;stroke:rgb(100%,100%,100%);stroke-opacity:1.0;stroke-width:1.0\"><title>Bombus sylvicola</title></rect><rect class=\"toyplot-Datum\" x=\"406.4356435643564\" y=\"297.22222222222223\" width=\"9.90099009900996\" height=\"2.7777777777777715\" style=\"fill:rgb(40%,76.1%,64.7%);fill-opacity:1.0;opacity:1.0;stroke:rgb(100%,100%,100%);stroke-opacity:1.0;stroke-width:1.0\"><title>Bombus borealis</title></rect><rect class=\"toyplot-Datum\" x=\"416.33663366336634\" y=\"297.22222222222223\" width=\"9.900990099009903\" height=\"2.7777777777777715\" style=\"fill:rgb(40%,76.1%,64.7%);fill-opacity:1.0;opacity:1.0;stroke:rgb(100%,100%,100%);stroke-opacity:1.0;stroke-width:1.0\"><title>Bombus sonorus</title></rect><rect class=\"toyplot-Datum\" x=\"426.23762376237624\" y=\"297.7777777777778\" width=\"9.900990099009903\" height=\"2.2222222222221717\" style=\"fill:rgb(40%,76.1%,64.7%);fill-opacity:1.0;opacity:1.0;stroke:rgb(100%,100%,100%);stroke-opacity:1.0;stroke-width:1.0\"><title>Bombus lapponicus</title></rect><rect class=\"toyplot-Datum\" x=\"436.13861386138615\" y=\"298.3333333333333\" width=\"9.900990099009903\" height=\"1.6666666666666856\" style=\"fill:rgb(40%,76.1%,64.7%);fill-opacity:1.0;opacity:1.0;stroke:rgb(100%,100%,100%);stroke-opacity:1.0;stroke-width:1.0\"><title>Bombus sandersoni</title></rect><rect class=\"toyplot-Datum\" x=\"446.03960396039605\" y=\"298.6111111111111\" width=\"9.900990099009903\" height=\"1.3888888888889142\" style=\"fill:rgb(40%,76.1%,64.7%);fill-opacity:1.0;opacity:1.0;stroke:rgb(100%,100%,100%);stroke-opacity:1.0;stroke-width:1.0\"><title>Bombus balteatus</title></rect><rect class=\"toyplot-Datum\" x=\"455.94059405940595\" y=\"298.6111111111111\" width=\"9.900990099009903\" height=\"1.3888888888889142\" style=\"fill:rgb(40%,76.1%,64.7%);fill-opacity:1.0;opacity:1.0;stroke:rgb(100%,100%,100%);stroke-opacity:1.0;stroke-width:1.0\"><title>Bombus polaris</title></rect><rect class=\"toyplot-Datum\" x=\"465.84158415841586\" y=\"299.1666666666667\" width=\"9.900990099009846\" height=\"0.8333333333333144\" style=\"fill:rgb(40%,76.1%,64.7%);fill-opacity:1.0;opacity:1.0;stroke:rgb(100%,100%,100%);stroke-opacity:1.0;stroke-width:1.0\"><title>Bombus cockerelli</title></rect><rect class=\"toyplot-Datum\" x=\"475.7425742574257\" y=\"299.4444444444444\" width=\"9.90099009900996\" height=\"0.5555555555555998\" style=\"fill:rgb(40%,76.1%,64.7%);fill-opacity:1.0;opacity:1.0;stroke:rgb(100%,100%,100%);stroke-opacity:1.0;stroke-width:1.0\"><title>Bombus weisi</title></rect><rect class=\"toyplot-Datum\" x=\"485.64356435643566\" y=\"299.4444444444444\" width=\"9.900990099009903\" height=\"0.5555555555555998\" style=\"fill:rgb(40%,76.1%,64.7%);fill-opacity:1.0;opacity:1.0;stroke:rgb(100%,100%,100%);stroke-opacity:1.0;stroke-width:1.0\"><title>Bombus hyperboreus</title></rect><rect class=\"toyplot-Datum\" x=\"495.54455445544556\" y=\"299.4444444444444\" width=\"9.900990099009903\" height=\"0.5555555555555998\" style=\"fill:rgb(40%,76.1%,64.7%);fill-opacity:1.0;opacity:1.0;stroke:rgb(100%,100%,100%);stroke-opacity:1.0;stroke-width:1.0\"><title>Bombus patagiatus</title></rect><rect class=\"toyplot-Datum\" x=\"505.44554455445547\" y=\"299.72222222222223\" width=\"9.900990099009903\" height=\"0.27777777777777146\" style=\"fill:rgb(40%,76.1%,64.7%);fill-opacity:1.0;opacity:1.0;stroke:rgb(100%,100%,100%);stroke-opacity:1.0;stroke-width:1.0\"><title>Bombus separatus</title></rect><rect class=\"toyplot-Datum\" x=\"515.3465346534654\" y=\"299.72222222222223\" width=\"9.900990099009846\" height=\"0.27777777777777146\" style=\"fill:rgb(40%,76.1%,64.7%);fill-opacity:1.0;opacity:1.0;stroke:rgb(100%,100%,100%);stroke-opacity:1.0;stroke-width:1.0\"><title>Bombus neoboreus</title></rect><rect class=\"toyplot-Datum\" x=\"525.2475247524752\" y=\"299.72222222222223\" width=\"9.90099009900996\" height=\"0.27777777777777146\" style=\"fill:rgb(40%,76.1%,64.7%);fill-opacity:1.0;opacity:1.0;stroke:rgb(100%,100%,100%);stroke-opacity:1.0;stroke-width:1.0\"><title>Bombus intrudens</title></rect><rect class=\"toyplot-Datum\" x=\"535.1485148514852\" y=\"299.72222222222223\" width=\"9.90099009900996\" height=\"0.27777777777777146\" style=\"fill:rgb(40%,76.1%,64.7%);fill-opacity:1.0;opacity:1.0;stroke:rgb(100%,100%,100%);stroke-opacity:1.0;stroke-width:1.0\"><title>Bombus rufosuffusus</title></rect></g></g></g><g class=\"toyplot-coordinates-Axis\" id=\"t88c7a528c19e4966a27de74cd48f4b04\" transform=\"translate(50.0,300.0)translate(0,10.0)\"><line x1=\"0\" y1=\"0\" x2=\"495.049504950495\" y2=\"0\" style=\"\"></line><g><g transform=\"translate(4.9504950495049505,6)\"><text x=\"-2.78\" y=\"8.555\" style=\"fill:rgb(16.1%,15.3%,14.1%);fill-opacity:1.0;font-family:helvetica;font-size:10.0px;font-weight:normal;stroke:none;vertical-align:baseline;white-space:pre\">0</text></g><g transform=\"translate(103.96039603960395,6)\"><text x=\"-5.56\" y=\"8.555\" style=\"fill:rgb(16.1%,15.3%,14.1%);fill-opacity:1.0;font-family:helvetica;font-size:10.0px;font-weight:normal;stroke:none;vertical-align:baseline;white-space:pre\">10</text></g><g transform=\"translate(202.97029702970298,6)\"><text x=\"-5.56\" y=\"8.555\" style=\"fill:rgb(16.1%,15.3%,14.1%);fill-opacity:1.0;font-family:helvetica;font-size:10.0px;font-weight:normal;stroke:none;vertical-align:baseline;white-space:pre\">20</text></g><g transform=\"translate(301.98019801980195,6)\"><text x=\"-5.56\" y=\"8.555\" style=\"fill:rgb(16.1%,15.3%,14.1%);fill-opacity:1.0;font-family:helvetica;font-size:10.0px;font-weight:normal;stroke:none;vertical-align:baseline;white-space:pre\">30</text></g><g transform=\"translate(400.99009900990103,6)\"><text x=\"-5.56\" y=\"8.555\" style=\"fill:rgb(16.1%,15.3%,14.1%);fill-opacity:1.0;font-family:helvetica;font-size:10.0px;font-weight:normal;stroke:none;vertical-align:baseline;white-space:pre\">40</text></g><g transform=\"translate(500.0,6)\"><text x=\"-5.56\" y=\"8.555\" style=\"fill:rgb(16.1%,15.3%,14.1%);fill-opacity:1.0;font-family:helvetica;font-size:10.0px;font-weight:normal;stroke:none;vertical-align:baseline;white-space:pre\">50</text></g></g><g class=\"toyplot-coordinates-Axis-coordinates\" style=\"visibility:hidden\" transform=\"\"><line x1=\"0\" x2=\"0\" y1=\"-3.0\" y2=\"4.5\" style=\"stroke:rgb(43.9%,50.2%,56.5%);stroke-opacity:1.0;stroke-width:1.0\"></line><text x=\"0\" y=\"-6\" style=\"alignment-baseline:alphabetic;fill:rgb(43.9%,50.2%,56.5%);fill-opacity:1.0;font-size:10px;font-weight:normal;stroke:none;text-anchor:middle\"></text></g></g><g class=\"toyplot-coordinates-Axis\" id=\"t7649424c7d0c4acb926b696b0b1b591a\" transform=\"translate(50.0,300.0)rotate(-90.0)translate(0,-10.0)\"><line x1=\"0\" y1=\"0\" x2=\"232.22222222222223\" y2=\"0\" style=\"\"></line><g><g transform=\"translate(0.0,-6)\"><text x=\"-2.78\" y=\"-4.440892098500626e-16\" style=\"fill:rgb(16.1%,15.3%,14.1%);fill-opacity:1.0;font-family:helvetica;font-size:10.0px;font-weight:normal;stroke:none;vertical-align:baseline;white-space:pre\">0</text></g><g transform=\"translate(83.33333333333333,-6)\"><text x=\"-8.34\" y=\"-4.440892098500626e-16\" style=\"fill:rgb(16.1%,15.3%,14.1%);fill-opacity:1.0;font-family:helvetica;font-size:10.0px;font-weight:normal;stroke:none;vertical-align:baseline;white-space:pre\">300</text></g><g transform=\"translate(166.66666666666666,-6)\"><text x=\"-8.34\" y=\"-4.440892098500626e-16\" style=\"fill:rgb(16.1%,15.3%,14.1%);fill-opacity:1.0;font-family:helvetica;font-size:10.0px;font-weight:normal;stroke:none;vertical-align:baseline;white-space:pre\">600</text></g><g transform=\"translate(250.0,-6)\"><text x=\"-8.34\" y=\"-4.440892098500626e-16\" style=\"fill:rgb(16.1%,15.3%,14.1%);fill-opacity:1.0;font-family:helvetica;font-size:10.0px;font-weight:normal;stroke:none;vertical-align:baseline;white-space:pre\">900</text></g></g><g class=\"toyplot-coordinates-Axis-coordinates\" style=\"visibility:hidden\" transform=\"\"><line x1=\"0\" x2=\"0\" y1=\"3.0\" y2=\"-4.5\" style=\"stroke:rgb(43.9%,50.2%,56.5%);stroke-opacity:1.0;stroke-width:1.0\"></line><text x=\"0\" y=\"6\" style=\"alignment-baseline:hanging;fill:rgb(43.9%,50.2%,56.5%);fill-opacity:1.0;font-size:10px;font-weight:normal;stroke:none;text-anchor:middle\"></text></g></g></g></svg><div class=\"toyplot-behavior\"><script>(function()\n",
       "{\n",
       "var modules={};\n",
       "modules[\"toyplot/tables\"] = (function()\n",
       "    {\n",
       "        var tables = [];\n",
       "\n",
       "        var module = {};\n",
       "\n",
       "        module.set = function(owner, key, names, columns)\n",
       "        {\n",
       "            tables.push({owner: owner, key: key, names: names, columns: columns});\n",
       "        }\n",
       "\n",
       "        module.get = function(owner, key)\n",
       "        {\n",
       "            for(var i = 0; i != tables.length; ++i)\n",
       "            {\n",
       "                var table = tables[i];\n",
       "                if(table.owner != owner)\n",
       "                    continue;\n",
       "                if(table.key != key)\n",
       "                    continue;\n",
       "                return {names: table.names, columns: table.columns};\n",
       "            }\n",
       "        }\n",
       "\n",
       "        module.get_csv = function(owner, key)\n",
       "        {\n",
       "            var table = module.get(owner, key);\n",
       "            if(table != undefined)\n",
       "            {\n",
       "                var csv = \"\";\n",
       "                csv += table.names.join(\",\") + \"\\n\";\n",
       "                for(var i = 0; i != table.columns[0].length; ++i)\n",
       "                {\n",
       "                  for(var j = 0; j != table.columns.length; ++j)\n",
       "                  {\n",
       "                    if(j)\n",
       "                      csv += \",\";\n",
       "                    csv += table.columns[j][i];\n",
       "                  }\n",
       "                  csv += \"\\n\";\n",
       "                }\n",
       "                return csv;\n",
       "            }\n",
       "        }\n",
       "\n",
       "        return module;\n",
       "    })();\n",
       "modules[\"toyplot/root/id\"] = \"t935bf591df684862b7b2bccc5e41b3e5\";\n",
       "modules[\"toyplot/root\"] = (function(root_id)\n",
       "    {\n",
       "        return document.querySelector(\"#\" + root_id);\n",
       "    })(modules[\"toyplot/root/id\"]);\n",
       "modules[\"toyplot/canvas/id\"] = \"tc35af735f8ab4ead942460705e36458e\";\n",
       "modules[\"toyplot/canvas\"] = (function(canvas_id)\n",
       "    {\n",
       "        return document.querySelector(\"#\" + canvas_id);\n",
       "    })(modules[\"toyplot/canvas/id\"]);\n",
       "modules[\"toyplot/menus/context\"] = (function(root, canvas)\n",
       "    {\n",
       "        var wrapper = document.createElement(\"div\");\n",
       "        wrapper.innerHTML = \"<ul class='toyplot-context-menu' style='background:#eee; border:1px solid #b8b8b8; border-radius:5px; box-shadow: 0px 0px 8px rgba(0%,0%,0%,0.25); margin:0; padding:3px 0; position:fixed; visibility:hidden;'></ul>\"\n",
       "        var menu = wrapper.firstChild;\n",
       "\n",
       "        root.appendChild(menu);\n",
       "\n",
       "        var items = [];\n",
       "\n",
       "        var ignore_mouseup = null;\n",
       "        function open_menu(e)\n",
       "        {\n",
       "            var show_menu = false;\n",
       "            for(var index=0; index != items.length; ++index)\n",
       "            {\n",
       "                var item = items[index];\n",
       "                if(item.show(e))\n",
       "                {\n",
       "                    item.item.style.display = \"block\";\n",
       "                    show_menu = true;\n",
       "                }\n",
       "                else\n",
       "                {\n",
       "                    item.item.style.display = \"none\";\n",
       "                }\n",
       "            }\n",
       "\n",
       "            if(show_menu)\n",
       "            {\n",
       "                ignore_mouseup = true;\n",
       "                menu.style.left = (e.clientX + 1) + \"px\";\n",
       "                menu.style.top = (e.clientY - 5) + \"px\";\n",
       "                menu.style.visibility = \"visible\";\n",
       "                e.stopPropagation();\n",
       "                e.preventDefault();\n",
       "            }\n",
       "        }\n",
       "\n",
       "        function close_menu()\n",
       "        {\n",
       "            menu.style.visibility = \"hidden\";\n",
       "        }\n",
       "\n",
       "        function contextmenu(e)\n",
       "        {\n",
       "            open_menu(e);\n",
       "        }\n",
       "\n",
       "        function mousemove(e)\n",
       "        {\n",
       "            ignore_mouseup = false;\n",
       "        }\n",
       "\n",
       "        function mouseup(e)\n",
       "        {\n",
       "            if(ignore_mouseup)\n",
       "            {\n",
       "                ignore_mouseup = false;\n",
       "                return;\n",
       "            }\n",
       "            close_menu();\n",
       "        }\n",
       "\n",
       "        function keydown(e)\n",
       "        {\n",
       "            if(e.key == \"Escape\" || e.key == \"Esc\" || e.keyCode == 27)\n",
       "            {\n",
       "                close_menu();\n",
       "            }\n",
       "        }\n",
       "\n",
       "        canvas.addEventListener(\"contextmenu\", contextmenu);\n",
       "        canvas.addEventListener(\"mousemove\", mousemove);\n",
       "        document.addEventListener(\"mouseup\", mouseup);\n",
       "        document.addEventListener(\"keydown\", keydown);\n",
       "\n",
       "        var module = {};\n",
       "        module.add_item = function(label, show, activate)\n",
       "        {\n",
       "            var wrapper = document.createElement(\"div\");\n",
       "            wrapper.innerHTML = \"<li class='toyplot-context-menu-item' style='background:#eee; color:#333; padding:2px 20px; list-style:none; margin:0; text-align:left;'>\" + label + \"</li>\"\n",
       "            var item = wrapper.firstChild;\n",
       "\n",
       "            items.push({item: item, show: show});\n",
       "\n",
       "            function mouseover()\n",
       "            {\n",
       "                this.style.background = \"steelblue\";\n",
       "                this.style.color = \"white\";\n",
       "            }\n",
       "\n",
       "            function mouseout()\n",
       "            {\n",
       "                this.style.background = \"#eee\";\n",
       "                this.style.color = \"#333\";\n",
       "            }\n",
       "\n",
       "            function choose_item(e)\n",
       "            {\n",
       "                close_menu();\n",
       "                activate();\n",
       "\n",
       "                e.stopPropagation();\n",
       "                e.preventDefault();\n",
       "            }\n",
       "\n",
       "            item.addEventListener(\"mouseover\", mouseover);\n",
       "            item.addEventListener(\"mouseout\", mouseout);\n",
       "            item.addEventListener(\"mouseup\", choose_item);\n",
       "            item.addEventListener(\"contextmenu\", choose_item);\n",
       "\n",
       "            menu.appendChild(item);\n",
       "        };\n",
       "        return module;\n",
       "    })(modules[\"toyplot/root\"],modules[\"toyplot/canvas\"]);\n",
       "modules[\"toyplot/io\"] = (function()\n",
       "    {\n",
       "        var module = {};\n",
       "        module.save_file = function(mime_type, charset, data, filename)\n",
       "        {\n",
       "            var uri = \"data:\" + mime_type + \";charset=\" + charset + \",\" + data;\n",
       "            uri = encodeURI(uri);\n",
       "\n",
       "            var link = document.createElement(\"a\");\n",
       "            if(typeof link.download != \"undefined\")\n",
       "            {\n",
       "              link.href = uri;\n",
       "              link.style = \"visibility:hidden\";\n",
       "              link.download = filename;\n",
       "\n",
       "              document.body.appendChild(link);\n",
       "              link.click();\n",
       "              document.body.removeChild(link);\n",
       "            }\n",
       "            else\n",
       "            {\n",
       "              window.open(uri);\n",
       "            }\n",
       "        };\n",
       "        return module;\n",
       "    })();\n",
       "modules[\"toyplot.coordinates.Axis\"] = (\n",
       "        function(canvas)\n",
       "        {\n",
       "            function sign(x)\n",
       "            {\n",
       "                return x < 0 ? -1 : x > 0 ? 1 : 0;\n",
       "            }\n",
       "\n",
       "            function mix(a, b, amount)\n",
       "            {\n",
       "                return ((1.0 - amount) * a) + (amount * b);\n",
       "            }\n",
       "\n",
       "            function log(x, base)\n",
       "            {\n",
       "                return Math.log(Math.abs(x)) / Math.log(base);\n",
       "            }\n",
       "\n",
       "            function in_range(a, x, b)\n",
       "            {\n",
       "                var left = Math.min(a, b);\n",
       "                var right = Math.max(a, b);\n",
       "                return left <= x && x <= right;\n",
       "            }\n",
       "\n",
       "            function inside(range, projection)\n",
       "            {\n",
       "                for(var i = 0; i != projection.length; ++i)\n",
       "                {\n",
       "                    var segment = projection[i];\n",
       "                    if(in_range(segment.range.min, range, segment.range.max))\n",
       "                        return true;\n",
       "                }\n",
       "                return false;\n",
       "            }\n",
       "\n",
       "            function to_domain(range, projection)\n",
       "            {\n",
       "                for(var i = 0; i != projection.length; ++i)\n",
       "                {\n",
       "                    var segment = projection[i];\n",
       "                    if(in_range(segment.range.bounds.min, range, segment.range.bounds.max))\n",
       "                    {\n",
       "                        if(segment.scale == \"linear\")\n",
       "                        {\n",
       "                            var amount = (range - segment.range.min) / (segment.range.max - segment.range.min);\n",
       "                            return mix(segment.domain.min, segment.domain.max, amount)\n",
       "                        }\n",
       "                        else if(segment.scale[0] == \"log\")\n",
       "                        {\n",
       "                            var amount = (range - segment.range.min) / (segment.range.max - segment.range.min);\n",
       "                            var base = segment.scale[1];\n",
       "                            return sign(segment.domain.min) * Math.pow(base, mix(log(segment.domain.min, base), log(segment.domain.max, base), amount));\n",
       "                        }\n",
       "                    }\n",
       "                }\n",
       "            }\n",
       "\n",
       "            var axes = {};\n",
       "\n",
       "            function display_coordinates(e)\n",
       "            {\n",
       "                var current = canvas.createSVGPoint();\n",
       "                current.x = e.clientX;\n",
       "                current.y = e.clientY;\n",
       "\n",
       "                for(var axis_id in axes)\n",
       "                {\n",
       "                    var axis = document.querySelector(\"#\" + axis_id);\n",
       "                    var coordinates = axis.querySelector(\".toyplot-coordinates-Axis-coordinates\");\n",
       "                    if(coordinates)\n",
       "                    {\n",
       "                        var projection = axes[axis_id];\n",
       "                        var local = current.matrixTransform(axis.getScreenCTM().inverse());\n",
       "                        if(inside(local.x, projection))\n",
       "                        {\n",
       "                            var domain = to_domain(local.x, projection);\n",
       "                            coordinates.style.visibility = \"visible\";\n",
       "                            coordinates.setAttribute(\"transform\", \"translate(\" + local.x + \")\");\n",
       "                            var text = coordinates.querySelector(\"text\");\n",
       "                            text.textContent = domain.toFixed(2);\n",
       "                        }\n",
       "                        else\n",
       "                        {\n",
       "                            coordinates.style.visibility= \"hidden\";\n",
       "                        }\n",
       "                    }\n",
       "                }\n",
       "            }\n",
       "\n",
       "            canvas.addEventListener(\"click\", display_coordinates);\n",
       "\n",
       "            var module = {};\n",
       "            module.show_coordinates = function(axis_id, projection)\n",
       "            {\n",
       "                axes[axis_id] = projection;\n",
       "            }\n",
       "\n",
       "            return module;\n",
       "        })(modules[\"toyplot/canvas\"]);\n",
       "(function(tables, context_menu, io, owner_id, key, label, names, columns, filename)\n",
       "        {\n",
       "            tables.set(owner_id, key, names, columns);\n",
       "\n",
       "            var owner = document.querySelector(\"#\" + owner_id);\n",
       "            function show_item(e)\n",
       "            {\n",
       "                return owner.contains(e.target);\n",
       "            }\n",
       "\n",
       "            function choose_item()\n",
       "            {\n",
       "                io.save_file(\"text/csv\", \"utf-8\", tables.get_csv(owner_id, key), filename + \".csv\");\n",
       "            }\n",
       "\n",
       "            context_menu.add_item(\"Save \" + label + \" as CSV\", show_item, choose_item);\n",
       "        })(modules[\"toyplot/tables\"],modules[\"toyplot/menus/context\"],modules[\"toyplot/io\"],\"t480da0244e614d4da5eddd8148d6f616\",\"data\",\"bar data\",[\"left\", \"right\", \"baseline\", \"magnitude0\"],[[-0.5, 0.5, 1.5, 2.5, 3.5, 4.5, 5.5, 6.5, 7.5, 8.5, 9.5, 10.5, 11.5, 12.5, 13.5, 14.5, 15.5, 16.5, 17.5, 18.5, 19.5, 20.5, 21.5, 22.5, 23.5, 24.5, 25.5, 26.5, 27.5, 28.5, 29.5, 30.5, 31.5, 32.5, 33.5, 34.5, 35.5, 36.5, 37.5, 38.5, 39.5, 40.5, 41.5, 42.5, 43.5, 44.5, 45.5, 46.5, 47.5, 48.5], [0.5, 1.5, 2.5, 3.5, 4.5, 5.5, 6.5, 7.5, 8.5, 9.5, 10.5, 11.5, 12.5, 13.5, 14.5, 15.5, 16.5, 17.5, 18.5, 19.5, 20.5, 21.5, 22.5, 23.5, 24.5, 25.5, 26.5, 27.5, 28.5, 29.5, 30.5, 31.5, 32.5, 33.5, 34.5, 35.5, 36.5, 37.5, 38.5, 39.5, 40.5, 41.5, 42.5, 43.5, 44.5, 45.5, 46.5, 47.5, 48.5, 49.5], [0.0, 0.0, 0.0, 0.0, 0.0, 0.0, 0.0, 0.0, 0.0, 0.0, 0.0, 0.0, 0.0, 0.0, 0.0, 0.0, 0.0, 0.0, 0.0, 0.0, 0.0, 0.0, 0.0, 0.0, 0.0, 0.0, 0.0, 0.0, 0.0, 0.0, 0.0, 0.0, 0.0, 0.0, 0.0, 0.0, 0.0, 0.0, 0.0, 0.0, 0.0, 0.0, 0.0, 0.0, 0.0, 0.0, 0.0, 0.0, 0.0, 0.0], [836.0, 508.0, 459.0, 432.0, 391.0, 356.0, 338.0, 273.0, 234.0, 230.0, 174.0, 173.0, 171.0, 148.0, 143.0, 137.0, 135.0, 109.0, 108.0, 107.0, 100.0, 88.0, 68.0, 68.0, 59.0, 46.0, 45.0, 43.0, 32.0, 29.0, 29.0, 20.0, 18.0, 18.0, 14.0, 11.0, 10.0, 10.0, 8.0, 6.0, 5.0, 5.0, 3.0, 2.0, 2.0, 2.0, 1.0, 1.0, 1.0, 1.0]],\"toyplot\");\n",
       "(function(axis, axis_id, projection)\n",
       "        {\n",
       "            axis.show_coordinates(axis_id, projection);\n",
       "        })(modules[\"toyplot.coordinates.Axis\"],\"t88c7a528c19e4966a27de74cd48f4b04\",[{\"domain\": {\"bounds\": {\"max\": Infinity, \"min\": -Infinity}, \"max\": 50.0, \"min\": -0.5}, \"range\": {\"bounds\": {\"max\": Infinity, \"min\": -Infinity}, \"max\": 500.0, \"min\": 0.0}, \"scale\": \"linear\"}]);\n",
       "(function(axis, axis_id, projection)\n",
       "        {\n",
       "            axis.show_coordinates(axis_id, projection);\n",
       "        })(modules[\"toyplot.coordinates.Axis\"],\"t7649424c7d0c4acb926b696b0b1b591a\",[{\"domain\": {\"bounds\": {\"max\": Infinity, \"min\": -Infinity}, \"max\": 900.0, \"min\": 0.0}, \"range\": {\"bounds\": {\"max\": Infinity, \"min\": -Infinity}, \"max\": 250.0, \"min\": 0.0}, \"scale\": \"linear\"}]);\n",
       "})();</script></div></div>"
      ]
     },
     "metadata": {},
     "output_type": "display_data"
    }
   ],
   "source": [
    "# plot the number of each species in order (hover over bars for names)\n",
    "sp_counts = df.species.value_counts()\n",
    "toyplot.bars(sp_counts, height=350, title=sp_counts.index);"
   ]
  },
  {
   "cell_type": "markdown",
   "metadata": {},
   "source": [
    "## Assignment: "
   ]
  },
  {
   "cell_type": "markdown",
   "metadata": {},
   "source": [
    "### Task 1: \n",
    "Write a Class object called `Records` that can be given a taxon name query and a range of years and will return a class instance with all results from GBIF for the queried range using the same params from our example above, except allowing the 'genusKey' and 'interval' arguments to vary. You can reuse the code above to create the core functions for your object, and modify it further if you wish. Look at the example below for the intended usage of your `Records` class object. It should do the following:\n",
    "\n",
    "1. Store input params during init().\n",
    "2. Call the GBIF API to get all occurrence records for a GenusKey in a given year interval.\n",
    "3. Parse json result into a pandas DataFrame\n",
    "4. Return a dataframe as a result.\n"
   ]
  },
  {
   "cell_type": "code",
   "execution_count": 74,
   "metadata": {},
   "outputs": [],
   "source": [
    "# skeleton of a class\n",
    "\n",
    "class Records:\n",
    "    def __init__(self, genusKey=None, interval=None):\n",
    "        # ...\n",
    "        # ... write code here...\n",
    "        # ...\n",
    "        # store the dataframe result to this attribute\n",
    "        self.df = None\n",
    "    \n",
    "    def get_all_records(self):\n",
    "        \"...\"\n",
    "        # ... write code here...\n",
    "        # ..."
   ]
  },
  {
   "cell_type": "markdown",
   "metadata": {},
   "source": [
    "When finished, you should be able to use your class object in the following way. This means that after writing your Class object, test it using the code below and make sure it gives proper results, otherwise keep hacking away at it. "
   ]
  },
  {
   "cell_type": "code",
   "execution_count": null,
   "metadata": {},
   "outputs": [],
   "source": [
    "## create instance by entering query and a range of years as integers\n",
    "rec = Records(genusKey=1340278, interval=(1950, 1955))\n",
    "\n",
    "## access all of the returned records as a dataframe \n",
    "## (here asking for the shape to see how many records there are)\n",
    "rec.df.shape"
   ]
  },
  {
   "cell_type": "markdown",
   "metadata": {},
   "source": [
    "### Task 2: \n",
    "Once you have tested your Record class object in this notebook and it is working, follow these instructions to create a Python package for it.\n",
    "\n",
    "1. Create a new GitHub repo called 'records'.\n",
    "2. Clone it to your computer.\n",
    "3. Open the folder in your text editor (vscode or sublime)\n",
    "4. Create a subfolder called records (`records/records/`)\n",
    "5. Create an init file (`records/records/__init__.py`)\n",
    "6. Create a module called records.py (`records/records/records.py`)\n",
    "7. Copy your Records class object from here to records.py.\n",
    "8. Create a setup.py script to make your package installable (`records/setup.py`). \n",
    "9. Run `pip install -e .` from `records/` to install your package locally. \n",
    "10. Test that your package is installed and working by importing your new package (called records) in the cell below and running the code. Try to make the Records class object importable in this way. (You may need to restart your notebook). Seek help if you get stuck."
   ]
  },
  {
   "cell_type": "code",
   "execution_count": null,
   "metadata": {},
   "outputs": [],
   "source": [
    "# import your library and access the Records class object from it\n",
    "import records\n",
    "rec = records.Records(1340278, interval=(1990, 2000))"
   ]
  },
  {
   "cell_type": "markdown",
   "metadata": {},
   "source": [
    "### [Optional] Advanced challenge\n",
    "If you accomplished this task easily then try to add an additional function to your package to allow entering the genus as a string, such that your code will search the taxonomic database to automatically find the integer genusKey to use in the occurrence database query, instead of requiring you to enter it as a numeric genusKey."
   ]
  },
  {
   "cell_type": "markdown",
   "metadata": {},
   "source": [
    "### Assessment\n",
    "You will be graded on the `records` class package in your GitHub repo. This notebook is only for instructions and learning and does not need to be submitted."
   ]
  }
 ],
 "metadata": {
  "kernelspec": {
   "display_name": "Python 3",
   "language": "python",
   "name": "python3"
  },
  "language_info": {
   "codemirror_mode": {
    "name": "ipython",
    "version": 3
   },
   "file_extension": ".py",
   "mimetype": "text/x-python",
   "name": "python",
   "nbconvert_exporter": "python",
   "pygments_lexer": "ipython3",
   "version": "3.8.6"
  }
 },
 "nbformat": 4,
 "nbformat_minor": 2
}
